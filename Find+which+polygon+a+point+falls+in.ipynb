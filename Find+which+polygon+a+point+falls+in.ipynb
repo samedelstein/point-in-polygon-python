{
 "cells": [
  {
   "cell_type": "markdown",
   "metadata": {},
   "source": [
    "Import modules"
   ]
  },
  {
   "cell_type": "code",
   "execution_count": 14,
   "metadata": {
    "collapsed": true
   },
   "outputs": [],
   "source": [
    "import pandas as pd\n",
    "import shapefile\n",
    "from shapely.geometry import shape, Point\n",
    "from pyproj import Proj, transform"
   ]
  },
  {
   "cell_type": "markdown",
   "metadata": {},
   "source": [
    "Read in and view first 5 rows of data"
   ]
  },
  {
   "cell_type": "code",
   "execution_count": 17,
   "metadata": {},
   "outputs": [
    {
     "data": {
      "text/html": [
       "<div>\n",
       "<style>\n",
       "    .dataframe thead tr:only-child th {\n",
       "        text-align: right;\n",
       "    }\n",
       "\n",
       "    .dataframe thead th {\n",
       "        text-align: left;\n",
       "    }\n",
       "\n",
       "    .dataframe tbody tr th {\n",
       "        vertical-align: top;\n",
       "    }\n",
       "</style>\n",
       "<table border=\"1\" class=\"dataframe\">\n",
       "  <thead>\n",
       "    <tr style=\"text-align: right;\">\n",
       "      <th></th>\n",
       "      <th>truck_name</th>\n",
       "      <th>repair_type</th>\n",
       "      <th>date_fixed</th>\n",
       "      <th>address</th>\n",
       "      <th>activity_type</th>\n",
       "      <th>longitude</th>\n",
       "      <th>latitude</th>\n",
       "      <th>TNT_NAME</th>\n",
       "    </tr>\n",
       "  </thead>\n",
       "  <tbody>\n",
       "    <tr>\n",
       "      <th>0</th>\n",
       "      <td>DP2</td>\n",
       "      <td>STREET REPAIR</td>\n",
       "      <td>2017-01-03 07:13:26.000</td>\n",
       "      <td>100-36 SALINA ST S &amp; WASHINGTON               ...</td>\n",
       "      <td>Accessory On</td>\n",
       "      <td>-76.152601</td>\n",
       "      <td>43.049603</td>\n",
       "      <td>Downtown</td>\n",
       "    </tr>\n",
       "    <tr>\n",
       "      <th>1</th>\n",
       "      <td>DP2</td>\n",
       "      <td>STREET REPAIR</td>\n",
       "      <td>2017-01-03 07:14:27.000</td>\n",
       "      <td>200-14 SALINA ST S &amp; WASHINGTON               ...</td>\n",
       "      <td>Accessory On</td>\n",
       "      <td>-76.152572</td>\n",
       "      <td>43.049579</td>\n",
       "      <td>Downtown</td>\n",
       "    </tr>\n",
       "    <tr>\n",
       "      <th>2</th>\n",
       "      <td>DP2</td>\n",
       "      <td>STREET REPAIR</td>\n",
       "      <td>2017-01-03 07:15:15.000</td>\n",
       "      <td>200-14 SALINA ST S &amp; WASHINGTON               ...</td>\n",
       "      <td>Accessory On</td>\n",
       "      <td>-76.152632</td>\n",
       "      <td>43.049571</td>\n",
       "      <td>Downtown</td>\n",
       "    </tr>\n",
       "    <tr>\n",
       "      <th>3</th>\n",
       "      <td>DP2</td>\n",
       "      <td>STREET REPAIR</td>\n",
       "      <td>2017-01-03 07:15:49.000</td>\n",
       "      <td>200-14 SALINA ST S &amp; WASHINGTON               ...</td>\n",
       "      <td>Accessory On</td>\n",
       "      <td>-76.152700</td>\n",
       "      <td>43.049572</td>\n",
       "      <td>Downtown</td>\n",
       "    </tr>\n",
       "    <tr>\n",
       "      <th>4</th>\n",
       "      <td>DP2</td>\n",
       "      <td>STREET REPAIR</td>\n",
       "      <td>2017-01-03 07:22:11.000</td>\n",
       "      <td>382-88 FAYETTE ST W &amp; WEST ST S               ...</td>\n",
       "      <td>Accessory On</td>\n",
       "      <td>-76.158248</td>\n",
       "      <td>43.049116</td>\n",
       "      <td>Downtown</td>\n",
       "    </tr>\n",
       "  </tbody>\n",
       "</table>\n",
       "</div>"
      ],
      "text/plain": [
       "         truck_name    repair_type               date_fixed  \\\n",
       "0  DP2               STREET REPAIR  2017-01-03 07:13:26.000   \n",
       "1  DP2               STREET REPAIR  2017-01-03 07:14:27.000   \n",
       "2  DP2               STREET REPAIR  2017-01-03 07:15:15.000   \n",
       "3  DP2               STREET REPAIR  2017-01-03 07:15:49.000   \n",
       "4  DP2               STREET REPAIR  2017-01-03 07:22:11.000   \n",
       "\n",
       "                                             address     activity_type  \\\n",
       "0  100-36 SALINA ST S & WASHINGTON               ...      Accessory On   \n",
       "1  200-14 SALINA ST S & WASHINGTON               ...      Accessory On   \n",
       "2  200-14 SALINA ST S & WASHINGTON               ...      Accessory On   \n",
       "3  200-14 SALINA ST S & WASHINGTON               ...      Accessory On   \n",
       "4  382-88 FAYETTE ST W & WEST ST S               ...      Accessory On   \n",
       "\n",
       "   longitude   latitude  TNT_NAME  \n",
       "0 -76.152601  43.049603  Downtown  \n",
       "1 -76.152572  43.049579  Downtown  \n",
       "2 -76.152632  43.049571  Downtown  \n",
       "3 -76.152700  43.049572  Downtown  \n",
       "4 -76.158248  43.049116  Downtown  "
      ]
     },
     "execution_count": 17,
     "metadata": {},
     "output_type": "execute_result"
    }
   ],
   "source": [
    "data = pd.read_csv(\"S:\\Data Research\\Open Data\\Datasets\\potholes_with_tnt.csv\", encoding='utf-8')\n",
    "data.head()"
   ]
  },
  {
   "cell_type": "markdown",
   "metadata": {},
   "source": [
    "The data we loaded already included the neighborhood name (TNT_NAME column above) so I'll just get rid of it for now and reproduce it. Use the data above as proof that this process works."
   ]
  },
  {
   "cell_type": "code",
   "execution_count": 5,
   "metadata": {},
   "outputs": [],
   "source": [
    "potholes = data[['truck_name', 'repair_type', 'date_fixed', 'address', 'activity_type', 'longitude', 'latitude']]"
   ]
  },
  {
   "cell_type": "code",
   "execution_count": 6,
   "metadata": {
    "collapsed": true
   },
   "outputs": [],
   "source": [
    "# read in the shapefile\n",
    "r = shapefile.Reader(\"S:/Data Research/Open Data/boundaries/tnt.shp\")\n",
    "\n",
    "# get the shapes and convert them to Shapely polygons\n",
    "polys = [shape(x) for x in r.shapes()]\n",
    "\n",
    "# get the records from the shapefile\n",
    "records = r.records()"
   ]
  },
  {
   "cell_type": "code",
   "execution_count": 8,
   "metadata": {},
   "outputs": [],
   "source": [
    "# create new dataframe for adding TNT's\n",
    "potholes_with_tnt = potholes.copy()\n",
    "\n",
    "# add an empty column for storing TNT name\n",
    "potholes_with_tnt[\"TNT_NAME\"] = ''"
   ]
  },
  {
   "cell_type": "code",
   "execution_count": 12,
   "metadata": {
    "collapsed": true
   },
   "outputs": [],
   "source": [
    "# function to convert latitude and longitude to the required projection.  Returns a Shapely point.\n",
    "def convert_proj(x,y):\n",
    "    inProj = Proj(init='epsg:4326')\n",
    "    outProj = Proj(init='epsg:32016')\n",
    "    x1,y1 = x,y\n",
    "    x2,y2 = transform(inProj,outProj,x1,y1)\n",
    "    x2 = 3.2808399 * x2\n",
    "    y2 = 3.2808399 * y2\n",
    "    return Point(x2, y2)"
   ]
  },
  {
   "cell_type": "code",
   "execution_count": 15,
   "metadata": {},
   "outputs": [],
   "source": [
    "# iterates through the pothole dataframe and finds the TNT for each row\n",
    "for index, row in potholes.iterrows():\n",
    "    point = convert_proj(row['longitude'], row['latitude'])\n",
    "    \n",
    "    # iterates through the neighborhood polygons and find the one that the point is within\n",
    "    # assigns the TNT name of the containing polygon to the row in the new potholes dataframe\n",
    "    for i in range(len(polys)):\n",
    "        if point.within(polys[i]):\n",
    "            potholes_with_tnt = potholes_with_tnt.set_value(index, \"TNT_NAME\", records[i][6])\n",
    "            break"
   ]
  },
  {
   "cell_type": "markdown",
   "metadata": {},
   "source": [
    "View data with the TNT neighborhood name attached"
   ]
  },
  {
   "cell_type": "code",
   "execution_count": 16,
   "metadata": {},
   "outputs": [
    {
     "data": {
      "text/html": [
       "<div>\n",
       "<style>\n",
       "    .dataframe thead tr:only-child th {\n",
       "        text-align: right;\n",
       "    }\n",
       "\n",
       "    .dataframe thead th {\n",
       "        text-align: left;\n",
       "    }\n",
       "\n",
       "    .dataframe tbody tr th {\n",
       "        vertical-align: top;\n",
       "    }\n",
       "</style>\n",
       "<table border=\"1\" class=\"dataframe\">\n",
       "  <thead>\n",
       "    <tr style=\"text-align: right;\">\n",
       "      <th></th>\n",
       "      <th>truck_name</th>\n",
       "      <th>repair_type</th>\n",
       "      <th>date_fixed</th>\n",
       "      <th>address</th>\n",
       "      <th>activity_type</th>\n",
       "      <th>longitude</th>\n",
       "      <th>latitude</th>\n",
       "      <th>TNT_NAME</th>\n",
       "    </tr>\n",
       "  </thead>\n",
       "  <tbody>\n",
       "    <tr>\n",
       "      <th>0</th>\n",
       "      <td>DP2</td>\n",
       "      <td>STREET REPAIR</td>\n",
       "      <td>2017-01-03 07:13:26.000</td>\n",
       "      <td>100-36 SALINA ST S &amp; WASHINGTON               ...</td>\n",
       "      <td>Accessory On</td>\n",
       "      <td>-76.152601</td>\n",
       "      <td>43.049603</td>\n",
       "      <td>Downtown</td>\n",
       "    </tr>\n",
       "    <tr>\n",
       "      <th>1</th>\n",
       "      <td>DP2</td>\n",
       "      <td>STREET REPAIR</td>\n",
       "      <td>2017-01-03 07:14:27.000</td>\n",
       "      <td>200-14 SALINA ST S &amp; WASHINGTON               ...</td>\n",
       "      <td>Accessory On</td>\n",
       "      <td>-76.152572</td>\n",
       "      <td>43.049579</td>\n",
       "      <td>Downtown</td>\n",
       "    </tr>\n",
       "    <tr>\n",
       "      <th>2</th>\n",
       "      <td>DP2</td>\n",
       "      <td>STREET REPAIR</td>\n",
       "      <td>2017-01-03 07:15:15.000</td>\n",
       "      <td>200-14 SALINA ST S &amp; WASHINGTON               ...</td>\n",
       "      <td>Accessory On</td>\n",
       "      <td>-76.152632</td>\n",
       "      <td>43.049571</td>\n",
       "      <td>Downtown</td>\n",
       "    </tr>\n",
       "    <tr>\n",
       "      <th>3</th>\n",
       "      <td>DP2</td>\n",
       "      <td>STREET REPAIR</td>\n",
       "      <td>2017-01-03 07:15:49.000</td>\n",
       "      <td>200-14 SALINA ST S &amp; WASHINGTON               ...</td>\n",
       "      <td>Accessory On</td>\n",
       "      <td>-76.152700</td>\n",
       "      <td>43.049572</td>\n",
       "      <td>Downtown</td>\n",
       "    </tr>\n",
       "    <tr>\n",
       "      <th>4</th>\n",
       "      <td>DP2</td>\n",
       "      <td>STREET REPAIR</td>\n",
       "      <td>2017-01-03 07:22:11.000</td>\n",
       "      <td>382-88 FAYETTE ST W &amp; WEST ST S               ...</td>\n",
       "      <td>Accessory On</td>\n",
       "      <td>-76.158248</td>\n",
       "      <td>43.049116</td>\n",
       "      <td>Downtown</td>\n",
       "    </tr>\n",
       "  </tbody>\n",
       "</table>\n",
       "</div>"
      ],
      "text/plain": [
       "         truck_name    repair_type               date_fixed  \\\n",
       "0  DP2               STREET REPAIR  2017-01-03 07:13:26.000   \n",
       "1  DP2               STREET REPAIR  2017-01-03 07:14:27.000   \n",
       "2  DP2               STREET REPAIR  2017-01-03 07:15:15.000   \n",
       "3  DP2               STREET REPAIR  2017-01-03 07:15:49.000   \n",
       "4  DP2               STREET REPAIR  2017-01-03 07:22:11.000   \n",
       "\n",
       "                                             address     activity_type  \\\n",
       "0  100-36 SALINA ST S & WASHINGTON               ...      Accessory On   \n",
       "1  200-14 SALINA ST S & WASHINGTON               ...      Accessory On   \n",
       "2  200-14 SALINA ST S & WASHINGTON               ...      Accessory On   \n",
       "3  200-14 SALINA ST S & WASHINGTON               ...      Accessory On   \n",
       "4  382-88 FAYETTE ST W & WEST ST S               ...      Accessory On   \n",
       "\n",
       "   longitude   latitude  TNT_NAME  \n",
       "0 -76.152601  43.049603  Downtown  \n",
       "1 -76.152572  43.049579  Downtown  \n",
       "2 -76.152632  43.049571  Downtown  \n",
       "3 -76.152700  43.049572  Downtown  \n",
       "4 -76.158248  43.049116  Downtown  "
      ]
     },
     "execution_count": 16,
     "metadata": {},
     "output_type": "execute_result"
    }
   ],
   "source": [
    "potholes_with_tnt.head()"
   ]
  },
  {
   "cell_type": "code",
   "execution_count": null,
   "metadata": {
    "collapsed": true
   },
   "outputs": [],
   "source": []
  }
 ],
 "metadata": {
  "anaconda-cloud": {},
  "kernelspec": {
   "display_name": "Python [conda root]",
   "language": "python",
   "name": "conda-root-py"
  },
  "language_info": {
   "codemirror_mode": {
    "name": "ipython",
    "version": 3
   },
   "file_extension": ".py",
   "mimetype": "text/x-python",
   "name": "python",
   "nbconvert_exporter": "python",
   "pygments_lexer": "ipython3",
   "version": "3.5.3"
  }
 },
 "nbformat": 4,
 "nbformat_minor": 2
}
